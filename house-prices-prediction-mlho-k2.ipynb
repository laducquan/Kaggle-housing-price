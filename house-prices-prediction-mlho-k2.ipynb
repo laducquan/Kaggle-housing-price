{
 "cells": [
  {
   "cell_type": "code",
   "execution_count": 1,
   "id": "675a6690",
   "metadata": {
    "_cell_guid": "b1076dfc-b9ad-4769-8c92-a6c4dae69d19",
    "_uuid": "8f2839f25d086af736a60e9eeb907d3b93b6e0e5",
    "execution": {
     "iopub.execute_input": "2023-05-09T02:43:01.395466Z",
     "iopub.status.busy": "2023-05-09T02:43:01.394700Z",
     "iopub.status.idle": "2023-05-09T02:43:01.409885Z",
     "shell.execute_reply": "2023-05-09T02:43:01.408540Z"
    },
    "papermill": {
     "duration": 0.029151,
     "end_time": "2023-05-09T02:43:01.412613",
     "exception": false,
     "start_time": "2023-05-09T02:43:01.383462",
     "status": "completed"
    },
    "tags": []
   },
   "outputs": [
    {
     "name": "stdout",
     "output_type": "stream",
     "text": [
      "/kaggle/input/house-prices-advanced-regression-techniques/sample_submission.csv\n",
      "/kaggle/input/house-prices-advanced-regression-techniques/data_description.txt\n",
      "/kaggle/input/house-prices-advanced-regression-techniques/train.csv\n",
      "/kaggle/input/house-prices-advanced-regression-techniques/test.csv\n"
     ]
    }
   ],
   "source": [
    "# This Python 3 environment comes with many helpful analytics libraries installed\n",
    "# It is defined by the kaggle/python Docker image: https://github.com/kaggle/docker-python\n",
    "# For example, here's several helpful packages to load\n",
    "\n",
    "import numpy as np # linear algebra\n",
    "import pandas as pd # data processing, CSV file I/O (e.g. pd.read_csv)\n",
    "\n",
    "# Input data files are available in the read-only \"../input/\" directory\n",
    "# For example, running this (by clicking run or pressing Shift+Enter) will list all files under the input directory\n",
    "\n",
    "import os\n",
    "for dirname, _, filenames in os.walk('/kaggle/input'):\n",
    "    for filename in filenames:\n",
    "        print(os.path.join(dirname, filename))\n",
    "\n",
    "# You can write up to 20GB to the current directory (/kaggle/working/) that gets preserved as output when you create a version using \"Save & Run All\" \n",
    "# You can also write temporary files to /kaggle/temp/, but they won't be saved outside of the current session"
   ]
  },
  {
   "cell_type": "markdown",
   "id": "aa3cc529",
   "metadata": {
    "execution": {
     "iopub.execute_input": "2023-03-12T15:38:42.239703Z",
     "iopub.status.busy": "2023-03-12T15:38:42.239318Z",
     "iopub.status.idle": "2023-03-12T15:38:42.247704Z",
     "shell.execute_reply": "2023-03-12T15:38:42.245918Z",
     "shell.execute_reply.started": "2023-03-12T15:38:42.239671Z"
    },
    "papermill": {
     "duration": 0.007474,
     "end_time": "2023-05-09T02:43:01.428054",
     "exception": false,
     "start_time": "2023-05-09T02:43:01.420580",
     "status": "completed"
    },
    "tags": []
   },
   "source": [
    "Log History:\n",
    "- 230303: Notebook Created\n",
    "- 230312: GridSearchCV for hyperparameter tuning + Add ...\n",
    "- 230314: ANOVA analysis for categorical variable\n",
    "- 230315: Log loss to solve skewness for both numerical features and numerical target variable"
   ]
  },
  {
   "cell_type": "markdown",
   "id": "36150887",
   "metadata": {
    "papermill": {
     "duration": 0.007176,
     "end_time": "2023-05-09T02:43:01.442997",
     "exception": false,
     "start_time": "2023-05-09T02:43:01.435821",
     "status": "completed"
    },
    "tags": []
   },
   "source": [
    "Notebook table of contents: <br>\n",
    "0. Get data and libraries\n",
    "1. Preprocessing\n",
    "2. Exploratory Data Analysis\n",
    "3. Machine Learning Model"
   ]
  },
  {
   "cell_type": "code",
   "execution_count": 2,
   "id": "8081f5bd",
   "metadata": {
    "execution": {
     "iopub.execute_input": "2023-05-09T02:43:01.460119Z",
     "iopub.status.busy": "2023-05-09T02:43:01.459691Z",
     "iopub.status.idle": "2023-05-09T02:43:03.245516Z",
     "shell.execute_reply": "2023-05-09T02:43:03.244378Z"
    },
    "papermill": {
     "duration": 1.797783,
     "end_time": "2023-05-09T02:43:03.248330",
     "exception": false,
     "start_time": "2023-05-09T02:43:01.450547",
     "status": "completed"
    },
    "tags": []
   },
   "outputs": [],
   "source": [
    "import seaborn as sns\n",
    "import matplotlib.pyplot as plt\n",
    "from sklearn.preprocessing import OneHotEncoder\n",
    "from sklearn.linear_model import LinearRegression\n",
    "from sklearn.svm import SVR\n",
    "from sklearn.tree import DecisionTreeRegressor\n",
    "from sklearn.ensemble import RandomForestRegressor\n",
    "from sklearn.ensemble import GradientBoostingRegressor\n",
    "from sklearn.model_selection import GridSearchCV\n",
    "from sklearn.model_selection import train_test_split\n",
    "from sklearn.model_selection import cross_val_score\n",
    "from sklearn.metrics import mean_squared_error\n",
    "from sklearn.metrics import mean_absolute_percentage_error"
   ]
  },
  {
   "cell_type": "code",
   "execution_count": 3,
   "id": "40d9b92a",
   "metadata": {
    "execution": {
     "iopub.execute_input": "2023-05-09T02:43:03.265612Z",
     "iopub.status.busy": "2023-05-09T02:43:03.265190Z",
     "iopub.status.idle": "2023-05-09T02:43:03.353942Z",
     "shell.execute_reply": "2023-05-09T02:43:03.352137Z"
    },
    "papermill": {
     "duration": 0.100734,
     "end_time": "2023-05-09T02:43:03.356829",
     "exception": false,
     "start_time": "2023-05-09T02:43:03.256095",
     "status": "completed"
    },
    "tags": []
   },
   "outputs": [
    {
     "name": "stdout",
     "output_type": "stream",
     "text": [
      "(1460, 80)\n",
      "(1459, 79)\n"
     ]
    }
   ],
   "source": [
    "df = pd.read_csv('/kaggle/input/house-prices-advanced-regression-techniques/train.csv')\n",
    "df.drop(columns = ['Id'],inplace = True)\n",
    "df_original = df.copy()\n",
    "\n",
    "test = pd.read_csv('/kaggle/input/house-prices-advanced-regression-techniques/test.csv')\n",
    "test.drop(columns = ['Id'], inplace = True)\n",
    "test_original = test.copy()\n",
    "\n",
    "print(df.shape)\n",
    "print(test.shape)"
   ]
  },
  {
   "cell_type": "code",
   "execution_count": 4,
   "id": "2a90dc90",
   "metadata": {
    "execution": {
     "iopub.execute_input": "2023-05-09T02:43:03.374488Z",
     "iopub.status.busy": "2023-05-09T02:43:03.374037Z",
     "iopub.status.idle": "2023-05-09T02:43:03.411833Z",
     "shell.execute_reply": "2023-05-09T02:43:03.410430Z"
    },
    "papermill": {
     "duration": 0.049891,
     "end_time": "2023-05-09T02:43:03.414688",
     "exception": false,
     "start_time": "2023-05-09T02:43:03.364797",
     "status": "completed"
    },
    "tags": []
   },
   "outputs": [
    {
     "data": {
      "text/html": [
       "<div>\n",
       "<style scoped>\n",
       "    .dataframe tbody tr th:only-of-type {\n",
       "        vertical-align: middle;\n",
       "    }\n",
       "\n",
       "    .dataframe tbody tr th {\n",
       "        vertical-align: top;\n",
       "    }\n",
       "\n",
       "    .dataframe thead th {\n",
       "        text-align: right;\n",
       "    }\n",
       "</style>\n",
       "<table border=\"1\" class=\"dataframe\">\n",
       "  <thead>\n",
       "    <tr style=\"text-align: right;\">\n",
       "      <th></th>\n",
       "      <th>MSSubClass</th>\n",
       "      <th>MSZoning</th>\n",
       "      <th>LotFrontage</th>\n",
       "      <th>LotArea</th>\n",
       "      <th>Street</th>\n",
       "      <th>Alley</th>\n",
       "      <th>LotShape</th>\n",
       "      <th>LandContour</th>\n",
       "      <th>Utilities</th>\n",
       "      <th>LotConfig</th>\n",
       "      <th>...</th>\n",
       "      <th>PoolArea</th>\n",
       "      <th>PoolQC</th>\n",
       "      <th>Fence</th>\n",
       "      <th>MiscFeature</th>\n",
       "      <th>MiscVal</th>\n",
       "      <th>MoSold</th>\n",
       "      <th>YrSold</th>\n",
       "      <th>SaleType</th>\n",
       "      <th>SaleCondition</th>\n",
       "      <th>SalePrice</th>\n",
       "    </tr>\n",
       "  </thead>\n",
       "  <tbody>\n",
       "    <tr>\n",
       "      <th>0</th>\n",
       "      <td>60</td>\n",
       "      <td>RL</td>\n",
       "      <td>65.0</td>\n",
       "      <td>8450</td>\n",
       "      <td>Pave</td>\n",
       "      <td>NaN</td>\n",
       "      <td>Reg</td>\n",
       "      <td>Lvl</td>\n",
       "      <td>AllPub</td>\n",
       "      <td>Inside</td>\n",
       "      <td>...</td>\n",
       "      <td>0</td>\n",
       "      <td>NaN</td>\n",
       "      <td>NaN</td>\n",
       "      <td>NaN</td>\n",
       "      <td>0</td>\n",
       "      <td>2</td>\n",
       "      <td>2008</td>\n",
       "      <td>WD</td>\n",
       "      <td>Normal</td>\n",
       "      <td>208500</td>\n",
       "    </tr>\n",
       "    <tr>\n",
       "      <th>1</th>\n",
       "      <td>20</td>\n",
       "      <td>RL</td>\n",
       "      <td>80.0</td>\n",
       "      <td>9600</td>\n",
       "      <td>Pave</td>\n",
       "      <td>NaN</td>\n",
       "      <td>Reg</td>\n",
       "      <td>Lvl</td>\n",
       "      <td>AllPub</td>\n",
       "      <td>FR2</td>\n",
       "      <td>...</td>\n",
       "      <td>0</td>\n",
       "      <td>NaN</td>\n",
       "      <td>NaN</td>\n",
       "      <td>NaN</td>\n",
       "      <td>0</td>\n",
       "      <td>5</td>\n",
       "      <td>2007</td>\n",
       "      <td>WD</td>\n",
       "      <td>Normal</td>\n",
       "      <td>181500</td>\n",
       "    </tr>\n",
       "    <tr>\n",
       "      <th>2</th>\n",
       "      <td>60</td>\n",
       "      <td>RL</td>\n",
       "      <td>68.0</td>\n",
       "      <td>11250</td>\n",
       "      <td>Pave</td>\n",
       "      <td>NaN</td>\n",
       "      <td>IR1</td>\n",
       "      <td>Lvl</td>\n",
       "      <td>AllPub</td>\n",
       "      <td>Inside</td>\n",
       "      <td>...</td>\n",
       "      <td>0</td>\n",
       "      <td>NaN</td>\n",
       "      <td>NaN</td>\n",
       "      <td>NaN</td>\n",
       "      <td>0</td>\n",
       "      <td>9</td>\n",
       "      <td>2008</td>\n",
       "      <td>WD</td>\n",
       "      <td>Normal</td>\n",
       "      <td>223500</td>\n",
       "    </tr>\n",
       "    <tr>\n",
       "      <th>3</th>\n",
       "      <td>70</td>\n",
       "      <td>RL</td>\n",
       "      <td>60.0</td>\n",
       "      <td>9550</td>\n",
       "      <td>Pave</td>\n",
       "      <td>NaN</td>\n",
       "      <td>IR1</td>\n",
       "      <td>Lvl</td>\n",
       "      <td>AllPub</td>\n",
       "      <td>Corner</td>\n",
       "      <td>...</td>\n",
       "      <td>0</td>\n",
       "      <td>NaN</td>\n",
       "      <td>NaN</td>\n",
       "      <td>NaN</td>\n",
       "      <td>0</td>\n",
       "      <td>2</td>\n",
       "      <td>2006</td>\n",
       "      <td>WD</td>\n",
       "      <td>Abnorml</td>\n",
       "      <td>140000</td>\n",
       "    </tr>\n",
       "    <tr>\n",
       "      <th>4</th>\n",
       "      <td>60</td>\n",
       "      <td>RL</td>\n",
       "      <td>84.0</td>\n",
       "      <td>14260</td>\n",
       "      <td>Pave</td>\n",
       "      <td>NaN</td>\n",
       "      <td>IR1</td>\n",
       "      <td>Lvl</td>\n",
       "      <td>AllPub</td>\n",
       "      <td>FR2</td>\n",
       "      <td>...</td>\n",
       "      <td>0</td>\n",
       "      <td>NaN</td>\n",
       "      <td>NaN</td>\n",
       "      <td>NaN</td>\n",
       "      <td>0</td>\n",
       "      <td>12</td>\n",
       "      <td>2008</td>\n",
       "      <td>WD</td>\n",
       "      <td>Normal</td>\n",
       "      <td>250000</td>\n",
       "    </tr>\n",
       "  </tbody>\n",
       "</table>\n",
       "<p>5 rows × 80 columns</p>\n",
       "</div>"
      ],
      "text/plain": [
       "   MSSubClass MSZoning  LotFrontage  LotArea Street Alley LotShape  \\\n",
       "0          60       RL         65.0     8450   Pave   NaN      Reg   \n",
       "1          20       RL         80.0     9600   Pave   NaN      Reg   \n",
       "2          60       RL         68.0    11250   Pave   NaN      IR1   \n",
       "3          70       RL         60.0     9550   Pave   NaN      IR1   \n",
       "4          60       RL         84.0    14260   Pave   NaN      IR1   \n",
       "\n",
       "  LandContour Utilities LotConfig  ... PoolArea PoolQC Fence MiscFeature  \\\n",
       "0         Lvl    AllPub    Inside  ...        0    NaN   NaN         NaN   \n",
       "1         Lvl    AllPub       FR2  ...        0    NaN   NaN         NaN   \n",
       "2         Lvl    AllPub    Inside  ...        0    NaN   NaN         NaN   \n",
       "3         Lvl    AllPub    Corner  ...        0    NaN   NaN         NaN   \n",
       "4         Lvl    AllPub       FR2  ...        0    NaN   NaN         NaN   \n",
       "\n",
       "  MiscVal MoSold  YrSold  SaleType  SaleCondition  SalePrice  \n",
       "0       0      2    2008        WD         Normal     208500  \n",
       "1       0      5    2007        WD         Normal     181500  \n",
       "2       0      9    2008        WD         Normal     223500  \n",
       "3       0      2    2006        WD        Abnorml     140000  \n",
       "4       0     12    2008        WD         Normal     250000  \n",
       "\n",
       "[5 rows x 80 columns]"
      ]
     },
     "execution_count": 4,
     "metadata": {},
     "output_type": "execute_result"
    }
   ],
   "source": [
    "df.head()"
   ]
  },
  {
   "cell_type": "code",
   "execution_count": 5,
   "id": "b11b1196",
   "metadata": {
    "execution": {
     "iopub.execute_input": "2023-05-09T02:43:03.433008Z",
     "iopub.status.busy": "2023-05-09T02:43:03.432585Z",
     "iopub.status.idle": "2023-05-09T02:43:03.445698Z",
     "shell.execute_reply": "2023-05-09T02:43:03.444412Z"
    },
    "papermill": {
     "duration": 0.025206,
     "end_time": "2023-05-09T02:43:03.448212",
     "exception": false,
     "start_time": "2023-05-09T02:43:03.423006",
     "status": "completed"
    },
    "tags": []
   },
   "outputs": [],
   "source": [
    "cat_cols = []\n",
    "num_cols = []\n",
    "for col in df.columns:\n",
    "    if df[col].dtypes == object:\n",
    "        cat_cols.append(col)\n",
    "    else:\n",
    "        if (col != 'SalePrice'):\n",
    "            num_cols.append(col)"
   ]
  },
  {
   "cell_type": "markdown",
   "id": "fff0ae87",
   "metadata": {
    "papermill": {
     "duration": 0.007799,
     "end_time": "2023-05-09T02:43:03.465413",
     "exception": false,
     "start_time": "2023-05-09T02:43:03.457614",
     "status": "completed"
    },
    "tags": []
   },
   "source": [
    "# 2. Exploratory Data Analysis"
   ]
  },
  {
   "cell_type": "markdown",
   "id": "093de130",
   "metadata": {
    "papermill": {
     "duration": 0.007854,
     "end_time": "2023-05-09T02:43:03.481282",
     "exception": false,
     "start_time": "2023-05-09T02:43:03.473428",
     "status": "completed"
    },
    "tags": []
   },
   "source": [
    "## 2.0. Missing data"
   ]
  },
  {
   "cell_type": "code",
   "execution_count": 6,
   "id": "cd34f3bc",
   "metadata": {
    "execution": {
     "iopub.execute_input": "2023-05-09T02:43:03.499300Z",
     "iopub.status.busy": "2023-05-09T02:43:03.498859Z",
     "iopub.status.idle": "2023-05-09T02:43:03.555339Z",
     "shell.execute_reply": "2023-05-09T02:43:03.554205Z"
    },
    "papermill": {
     "duration": 0.068708,
     "end_time": "2023-05-09T02:43:03.558059",
     "exception": false,
     "start_time": "2023-05-09T02:43:03.489351",
     "status": "completed"
    },
    "tags": []
   },
   "outputs": [],
   "source": [
    "for col in num_cols:\n",
    "    m = df[col].mean()\n",
    "    df[col].fillna(m, inplace = True)\n",
    "    m = test[col].mean()\n",
    "    test[col].fillna(m, inplace = True)\n",
    "for col in cat_cols:\n",
    "    df[col].fillna('Not Available', inplace = True)\n",
    "    test[col].fillna('Not Available', inplace = True)"
   ]
  },
  {
   "cell_type": "markdown",
   "id": "7cd7d300",
   "metadata": {
    "papermill": {
     "duration": 0.007961,
     "end_time": "2023-05-09T02:43:03.574186",
     "exception": false,
     "start_time": "2023-05-09T02:43:03.566225",
     "status": "completed"
    },
    "tags": []
   },
   "source": [
    "## 2.1 Analysis of the target variable by each of the categorical variable"
   ]
  },
  {
   "cell_type": "markdown",
   "id": "45268502",
   "metadata": {
    "papermill": {
     "duration": 0.007832,
     "end_time": "2023-05-09T02:43:03.590372",
     "exception": false,
     "start_time": "2023-05-09T02:43:03.582540",
     "status": "completed"
    },
    "tags": []
   },
   "source": [
    "Here we perform an 1-way ANOVA analysis to determine the strength of the correlation between a single categorical and the numerical target variable (SalePrice)\n",
    "Read about the analysis here: http://www.sefidian.com/2022/08/02/measure-the-correlation-between-numerical-and-categorical-variables-and-the-correlation-between-two-categorical-variables-in-python-chi-square-and-anova/"
   ]
  },
  {
   "cell_type": "code",
   "execution_count": 7,
   "id": "1ab7ce8d",
   "metadata": {
    "execution": {
     "iopub.execute_input": "2023-05-09T02:43:03.609547Z",
     "iopub.status.busy": "2023-05-09T02:43:03.609116Z",
     "iopub.status.idle": "2023-05-09T02:43:03.695361Z",
     "shell.execute_reply": "2023-05-09T02:43:03.693932Z"
    },
    "papermill": {
     "duration": 0.099116,
     "end_time": "2023-05-09T02:43:03.698222",
     "exception": false,
     "start_time": "2023-05-09T02:43:03.599106",
     "status": "completed"
    },
    "tags": []
   },
   "outputs": [],
   "source": [
    "\"\"\"Because building boxplots for each of 43 categorical features is very redundant\n",
    "    and not visually appealing, we first explore the data by building a simple model\n",
    "    to predict the housing price based solely on each categorical feature\"\"\"\n",
    "\n",
    "\n",
    "from scipy.stats import f_oneway\n",
    "cat_feat_res = []\n",
    "for feat in cat_cols:\n",
    "    cats = df.groupby(feat)['SalePrice'].apply(list)\n",
    "    f_val, p_val = f_oneway(*cats)\n",
    "    if (p_val < 0.05):\n",
    "        cat_feat_res.append((feat, 'c', f_val))\n",
    "cat_feat_res.sort(key = lambda x : -x[2])"
   ]
  },
  {
   "cell_type": "markdown",
   "id": "c17ad8ac",
   "metadata": {
    "papermill": {
     "duration": 0.007832,
     "end_time": "2023-05-09T02:43:03.714375",
     "exception": false,
     "start_time": "2023-05-09T02:43:03.706543",
     "status": "completed"
    },
    "tags": []
   },
   "source": [
    "## 2.2. SalePrice by numerical values"
   ]
  },
  {
   "cell_type": "markdown",
   "id": "d33cd107",
   "metadata": {
    "papermill": {
     "duration": 0.007827,
     "end_time": "2023-05-09T02:43:03.730428",
     "exception": false,
     "start_time": "2023-05-09T02:43:03.722601",
     "status": "completed"
    },
    "tags": []
   },
   "source": [
    "### 2.2.1. Sort features by their correlation values"
   ]
  },
  {
   "cell_type": "code",
   "execution_count": 8,
   "id": "3ea6e6af",
   "metadata": {
    "execution": {
     "iopub.execute_input": "2023-05-09T02:43:03.749286Z",
     "iopub.status.busy": "2023-05-09T02:43:03.748199Z",
     "iopub.status.idle": "2023-05-09T02:43:03.787919Z",
     "shell.execute_reply": "2023-05-09T02:43:03.785764Z"
    },
    "papermill": {
     "duration": 0.052328,
     "end_time": "2023-05-09T02:43:03.791101",
     "exception": false,
     "start_time": "2023-05-09T02:43:03.738773",
     "status": "completed"
    },
    "tags": []
   },
   "outputs": [],
   "source": [
    "num_feat_res = []\n",
    "for feat in num_cols:\n",
    "    cor = df[[feat, 'SalePrice']].corr().iloc[0,1]\n",
    "    num_feat_res.append((feat, 'n', cor))\n",
    "num_feat_res.sort(key = lambda x : -np.abs(x[2]))"
   ]
  },
  {
   "cell_type": "markdown",
   "id": "6476aad5",
   "metadata": {
    "papermill": {
     "duration": 0.007876,
     "end_time": "2023-05-09T02:43:03.807155",
     "exception": false,
     "start_time": "2023-05-09T02:43:03.799279",
     "status": "completed"
    },
    "tags": []
   },
   "source": [
    "### 2.2.2. Check skewness and log transformation"
   ]
  },
  {
   "cell_type": "code",
   "execution_count": 9,
   "id": "824a708b",
   "metadata": {
    "execution": {
     "iopub.execute_input": "2023-05-09T02:43:03.825513Z",
     "iopub.status.busy": "2023-05-09T02:43:03.824763Z",
     "iopub.status.idle": "2023-05-09T02:43:03.830652Z",
     "shell.execute_reply": "2023-05-09T02:43:03.829457Z"
    },
    "papermill": {
     "duration": 0.017943,
     "end_time": "2023-05-09T02:43:03.833043",
     "exception": false,
     "start_time": "2023-05-09T02:43:03.815100",
     "status": "completed"
    },
    "tags": []
   },
   "outputs": [],
   "source": [
    "from scipy.stats import skew"
   ]
  },
  {
   "cell_type": "code",
   "execution_count": 10,
   "id": "0deb34cd",
   "metadata": {
    "execution": {
     "iopub.execute_input": "2023-05-09T02:43:03.851521Z",
     "iopub.status.busy": "2023-05-09T02:43:03.850776Z",
     "iopub.status.idle": "2023-05-09T02:43:03.905442Z",
     "shell.execute_reply": "2023-05-09T02:43:03.903875Z"
    },
    "papermill": {
     "duration": 0.066928,
     "end_time": "2023-05-09T02:43:03.908106",
     "exception": false,
     "start_time": "2023-05-09T02:43:03.841178",
     "status": "completed"
    },
    "tags": []
   },
   "outputs": [
    {
     "name": "stdout",
     "output_type": "stream",
     "text": [
      "Skew in numerical features: \n",
      "There are 36 skewed numerical features to Log1p transform\n"
     ]
    }
   ],
   "source": [
    "# Skewing all features (Log level transform)\n",
    "skewed_feats = df[num_cols].apply(lambda x: skew(x.dropna())).sort_values(ascending=False)\n",
    "# skewed_feats = data_b.apply(lambda x: skew(x.dropna())).sort_values(ascending=False)\n",
    "print(\"Skew in numerical features: \")\n",
    "skewness = pd.DataFrame({'Skew' :skewed_feats})\n",
    "\n",
    "skewness = skewness[abs(skewness) > 1]\n",
    "print(\"There are {} skewed numerical features to Log1p transform\".format(skewness.shape[0]))\n",
    "\n",
    "skewed_features = skewness.index\n",
    "\n",
    "for feat in skewed_features:\n",
    "    df[feat] = np.log1p(df[feat])\n",
    "    if (feat not in test.columns):\n",
    "        continue\n",
    "    test[feat] = np.log1p(test[feat])\n",
    "\n",
    "y = df['SalePrice'].copy()\n",
    "y = np.log1p(y)"
   ]
  },
  {
   "cell_type": "markdown",
   "id": "79201800",
   "metadata": {
    "papermill": {
     "duration": 0.007785,
     "end_time": "2023-05-09T02:43:03.924243",
     "exception": false,
     "start_time": "2023-05-09T02:43:03.916458",
     "status": "completed"
    },
    "tags": []
   },
   "source": [
    "# 3. Models"
   ]
  },
  {
   "cell_type": "markdown",
   "id": "2406420a",
   "metadata": {
    "papermill": {
     "duration": 0.007794,
     "end_time": "2023-05-09T02:43:03.940032",
     "exception": false,
     "start_time": "2023-05-09T02:43:03.932238",
     "status": "completed"
    },
    "tags": []
   },
   "source": [
    "## 3.0 Pre model"
   ]
  },
  {
   "cell_type": "markdown",
   "id": "360c960e",
   "metadata": {
    "papermill": {
     "duration": 0.008907,
     "end_time": "2023-05-09T02:43:03.957019",
     "exception": false,
     "start_time": "2023-05-09T02:43:03.948112",
     "status": "completed"
    },
    "tags": []
   },
   "source": [
    "Different Methods to choose the features for the model:\n",
    "1. Choose the top 10 features with the lowest MAPE, regardless of being cat or num \n",
    "2. Choose the top 5 cat features with the lowest MAPE and 5 num features\n",
    "<br>\n",
    "Change the number from 10 to 14 and 20. "
   ]
  },
  {
   "cell_type": "markdown",
   "id": "9c36c22e",
   "metadata": {
    "papermill": {
     "duration": 0.00768,
     "end_time": "2023-05-09T02:43:03.973044",
     "exception": false,
     "start_time": "2023-05-09T02:43:03.965364",
     "status": "completed"
    },
    "tags": []
   },
   "source": [
    "Because numerical and categorical features' strength of relationship with the target variable are in different scale (the numerical variables are between 0,1 and the categrical are > 0 only), we prioritize using the second strategy"
   ]
  },
  {
   "cell_type": "code",
   "execution_count": 11,
   "id": "022065d7",
   "metadata": {
    "execution": {
     "iopub.execute_input": "2023-05-09T02:43:03.991238Z",
     "iopub.status.busy": "2023-05-09T02:43:03.990795Z",
     "iopub.status.idle": "2023-05-09T02:43:04.000045Z",
     "shell.execute_reply": "2023-05-09T02:43:03.998772Z"
    },
    "papermill": {
     "duration": 0.021381,
     "end_time": "2023-05-09T02:43:04.002521",
     "exception": false,
     "start_time": "2023-05-09T02:43:03.981140",
     "status": "completed"
    },
    "tags": []
   },
   "outputs": [],
   "source": [
    "#1. Top 10 features regardless\n",
    "def choose_features(choice = 2, n_num = 10, n_cat = 10, num = num_feat_res, cat = cat_feat_res):\n",
    "    feats = []\n",
    "    to_transform = []\n",
    "    if choice == 1:\n",
    "        best_cols = (num + cat)\n",
    "        best_cols.sort(key = lambda x: x[2])\n",
    "        for i in range(n_num + n_cat):\n",
    "            feats.append(best_cols[i][0])\n",
    "            feat_type = best_cols[i][1]\n",
    "            if feat_type == 'c':\n",
    "                to_transform.append(best_cols[i][0])\n",
    "    else:\n",
    "        for i in range(n_num):\n",
    "            feats.append(num[i][0])\n",
    "        for i in range(n_cat):\n",
    "            feats.append(cat[i][0])\n",
    "            to_transform.append(cat[i][0])\n",
    "    return feats, to_transform"
   ]
  },
  {
   "cell_type": "code",
   "execution_count": 12,
   "id": "a8b04511",
   "metadata": {
    "execution": {
     "iopub.execute_input": "2023-05-09T02:43:04.021061Z",
     "iopub.status.busy": "2023-05-09T02:43:04.020670Z",
     "iopub.status.idle": "2023-05-09T02:43:04.032078Z",
     "shell.execute_reply": "2023-05-09T02:43:04.030986Z"
    },
    "papermill": {
     "duration": 0.024262,
     "end_time": "2023-05-09T02:43:04.034877",
     "exception": false,
     "start_time": "2023-05-09T02:43:04.010615",
     "status": "completed"
    },
    "tags": []
   },
   "outputs": [],
   "source": [
    "feats, to_transform = choose_features(choice  = 2, n_num = 15, n_cat = 15)\n",
    "X_train = df[feats].copy()\n",
    "X_test = test[feats].copy()"
   ]
  },
  {
   "cell_type": "code",
   "execution_count": 13,
   "id": "f078558b",
   "metadata": {
    "execution": {
     "iopub.execute_input": "2023-05-09T02:43:04.053832Z",
     "iopub.status.busy": "2023-05-09T02:43:04.053417Z",
     "iopub.status.idle": "2023-05-09T02:43:04.102692Z",
     "shell.execute_reply": "2023-05-09T02:43:04.101439Z"
    },
    "papermill": {
     "duration": 0.061786,
     "end_time": "2023-05-09T02:43:04.105326",
     "exception": false,
     "start_time": "2023-05-09T02:43:04.043540",
     "status": "completed"
    },
    "tags": []
   },
   "outputs": [
    {
     "data": {
      "text/html": [
       "<div>\n",
       "<style scoped>\n",
       "    .dataframe tbody tr th:only-of-type {\n",
       "        vertical-align: middle;\n",
       "    }\n",
       "\n",
       "    .dataframe tbody tr th {\n",
       "        vertical-align: top;\n",
       "    }\n",
       "\n",
       "    .dataframe thead th {\n",
       "        text-align: right;\n",
       "    }\n",
       "</style>\n",
       "<table border=\"1\" class=\"dataframe\">\n",
       "  <thead>\n",
       "    <tr style=\"text-align: right;\">\n",
       "      <th></th>\n",
       "      <th>OverallQual</th>\n",
       "      <th>GrLivArea</th>\n",
       "      <th>GarageCars</th>\n",
       "      <th>GarageArea</th>\n",
       "      <th>TotalBsmtSF</th>\n",
       "      <th>1stFlrSF</th>\n",
       "      <th>FullBath</th>\n",
       "      <th>TotRmsAbvGrd</th>\n",
       "      <th>YearBuilt</th>\n",
       "      <th>YearRemodAdd</th>\n",
       "      <th>...</th>\n",
       "      <th>SaleCondition_AdjLand</th>\n",
       "      <th>SaleCondition_Alloca</th>\n",
       "      <th>SaleCondition_Family</th>\n",
       "      <th>SaleCondition_Normal</th>\n",
       "      <th>SaleCondition_Partial</th>\n",
       "      <th>MSZoning_C (all)</th>\n",
       "      <th>MSZoning_FV</th>\n",
       "      <th>MSZoning_RH</th>\n",
       "      <th>MSZoning_RL</th>\n",
       "      <th>MSZoning_RM</th>\n",
       "    </tr>\n",
       "  </thead>\n",
       "  <tbody>\n",
       "    <tr>\n",
       "      <th>0</th>\n",
       "      <td>2.079442</td>\n",
       "      <td>7.444833</td>\n",
       "      <td>1.098612</td>\n",
       "      <td>6.308098</td>\n",
       "      <td>6.753438</td>\n",
       "      <td>6.753438</td>\n",
       "      <td>1.098612</td>\n",
       "      <td>2.197225</td>\n",
       "      <td>7.602900</td>\n",
       "      <td>7.602900</td>\n",
       "      <td>...</td>\n",
       "      <td>0.0</td>\n",
       "      <td>0.0</td>\n",
       "      <td>0.0</td>\n",
       "      <td>1.0</td>\n",
       "      <td>0.0</td>\n",
       "      <td>0.0</td>\n",
       "      <td>0.0</td>\n",
       "      <td>0.0</td>\n",
       "      <td>1.0</td>\n",
       "      <td>0.0</td>\n",
       "    </tr>\n",
       "    <tr>\n",
       "      <th>1</th>\n",
       "      <td>1.945910</td>\n",
       "      <td>7.141245</td>\n",
       "      <td>1.098612</td>\n",
       "      <td>6.133398</td>\n",
       "      <td>7.141245</td>\n",
       "      <td>7.141245</td>\n",
       "      <td>1.098612</td>\n",
       "      <td>1.945910</td>\n",
       "      <td>7.589336</td>\n",
       "      <td>7.589336</td>\n",
       "      <td>...</td>\n",
       "      <td>0.0</td>\n",
       "      <td>0.0</td>\n",
       "      <td>0.0</td>\n",
       "      <td>1.0</td>\n",
       "      <td>0.0</td>\n",
       "      <td>0.0</td>\n",
       "      <td>0.0</td>\n",
       "      <td>0.0</td>\n",
       "      <td>1.0</td>\n",
       "      <td>0.0</td>\n",
       "    </tr>\n",
       "    <tr>\n",
       "      <th>2</th>\n",
       "      <td>2.079442</td>\n",
       "      <td>7.488294</td>\n",
       "      <td>1.098612</td>\n",
       "      <td>6.411818</td>\n",
       "      <td>6.825460</td>\n",
       "      <td>6.825460</td>\n",
       "      <td>1.098612</td>\n",
       "      <td>1.945910</td>\n",
       "      <td>7.601902</td>\n",
       "      <td>7.602401</td>\n",
       "      <td>...</td>\n",
       "      <td>0.0</td>\n",
       "      <td>0.0</td>\n",
       "      <td>0.0</td>\n",
       "      <td>1.0</td>\n",
       "      <td>0.0</td>\n",
       "      <td>0.0</td>\n",
       "      <td>0.0</td>\n",
       "      <td>0.0</td>\n",
       "      <td>1.0</td>\n",
       "      <td>0.0</td>\n",
       "    </tr>\n",
       "    <tr>\n",
       "      <th>3</th>\n",
       "      <td>2.079442</td>\n",
       "      <td>7.448916</td>\n",
       "      <td>1.386294</td>\n",
       "      <td>6.466145</td>\n",
       "      <td>6.629363</td>\n",
       "      <td>6.869014</td>\n",
       "      <td>0.693147</td>\n",
       "      <td>2.079442</td>\n",
       "      <td>7.557995</td>\n",
       "      <td>7.586296</td>\n",
       "      <td>...</td>\n",
       "      <td>0.0</td>\n",
       "      <td>0.0</td>\n",
       "      <td>0.0</td>\n",
       "      <td>0.0</td>\n",
       "      <td>0.0</td>\n",
       "      <td>0.0</td>\n",
       "      <td>0.0</td>\n",
       "      <td>0.0</td>\n",
       "      <td>1.0</td>\n",
       "      <td>0.0</td>\n",
       "    </tr>\n",
       "    <tr>\n",
       "      <th>4</th>\n",
       "      <td>2.197225</td>\n",
       "      <td>7.695758</td>\n",
       "      <td>1.386294</td>\n",
       "      <td>6.729824</td>\n",
       "      <td>7.044033</td>\n",
       "      <td>7.044033</td>\n",
       "      <td>1.098612</td>\n",
       "      <td>2.302585</td>\n",
       "      <td>7.601402</td>\n",
       "      <td>7.601402</td>\n",
       "      <td>...</td>\n",
       "      <td>0.0</td>\n",
       "      <td>0.0</td>\n",
       "      <td>0.0</td>\n",
       "      <td>1.0</td>\n",
       "      <td>0.0</td>\n",
       "      <td>0.0</td>\n",
       "      <td>0.0</td>\n",
       "      <td>0.0</td>\n",
       "      <td>1.0</td>\n",
       "      <td>0.0</td>\n",
       "    </tr>\n",
       "  </tbody>\n",
       "</table>\n",
       "<p>5 rows × 111 columns</p>\n",
       "</div>"
      ],
      "text/plain": [
       "   OverallQual  GrLivArea  GarageCars  GarageArea  TotalBsmtSF  1stFlrSF  \\\n",
       "0     2.079442   7.444833    1.098612    6.308098     6.753438  6.753438   \n",
       "1     1.945910   7.141245    1.098612    6.133398     7.141245  7.141245   \n",
       "2     2.079442   7.488294    1.098612    6.411818     6.825460  6.825460   \n",
       "3     2.079442   7.448916    1.386294    6.466145     6.629363  6.869014   \n",
       "4     2.197225   7.695758    1.386294    6.729824     7.044033  7.044033   \n",
       "\n",
       "   FullBath  TotRmsAbvGrd  YearBuilt  YearRemodAdd  ...  \\\n",
       "0  1.098612      2.197225   7.602900      7.602900  ...   \n",
       "1  1.098612      1.945910   7.589336      7.589336  ...   \n",
       "2  1.098612      1.945910   7.601902      7.602401  ...   \n",
       "3  0.693147      2.079442   7.557995      7.586296  ...   \n",
       "4  1.098612      2.302585   7.601402      7.601402  ...   \n",
       "\n",
       "   SaleCondition_AdjLand  SaleCondition_Alloca  SaleCondition_Family  \\\n",
       "0                    0.0                   0.0                   0.0   \n",
       "1                    0.0                   0.0                   0.0   \n",
       "2                    0.0                   0.0                   0.0   \n",
       "3                    0.0                   0.0                   0.0   \n",
       "4                    0.0                   0.0                   0.0   \n",
       "\n",
       "   SaleCondition_Normal  SaleCondition_Partial  MSZoning_C (all)  MSZoning_FV  \\\n",
       "0                   1.0                    0.0               0.0          0.0   \n",
       "1                   1.0                    0.0               0.0          0.0   \n",
       "2                   1.0                    0.0               0.0          0.0   \n",
       "3                   0.0                    0.0               0.0          0.0   \n",
       "4                   1.0                    0.0               0.0          0.0   \n",
       "\n",
       "   MSZoning_RH  MSZoning_RL  MSZoning_RM  \n",
       "0          0.0          1.0          0.0  \n",
       "1          0.0          1.0          0.0  \n",
       "2          0.0          1.0          0.0  \n",
       "3          0.0          1.0          0.0  \n",
       "4          0.0          1.0          0.0  \n",
       "\n",
       "[5 rows x 111 columns]"
      ]
     },
     "execution_count": 13,
     "metadata": {},
     "output_type": "execute_result"
    }
   ],
   "source": [
    "encoder = OneHotEncoder(handle_unknown = 'ignore')\n",
    "encoder.fit(X_train[to_transform])\n",
    "\n",
    "transformed = encoder.transform(X_train[to_transform]).toarray()\n",
    "feature_names = encoder.get_feature_names_out(to_transform)\n",
    "\n",
    "X_train = pd.concat([X_train.drop(to_transform, axis = 1),\n",
    "              pd.DataFrame(transformed, columns = feature_names)], axis = 1)\n",
    "X_train.head()"
   ]
  },
  {
   "cell_type": "markdown",
   "id": "40fd6dd2",
   "metadata": {
    "papermill": {
     "duration": 0.008351,
     "end_time": "2023-05-09T02:43:04.122329",
     "exception": false,
     "start_time": "2023-05-09T02:43:04.113978",
     "status": "completed"
    },
    "tags": []
   },
   "source": [
    "## 3.1. Testing models"
   ]
  },
  {
   "cell_type": "markdown",
   "id": "504fdcb1",
   "metadata": {
    "papermill": {
     "duration": 0.008806,
     "end_time": "2023-05-09T02:43:04.139572",
     "exception": false,
     "start_time": "2023-05-09T02:43:04.130766",
     "status": "completed"
    },
    "tags": []
   },
   "source": [
    "## 3.2. Tuning hyperparameters for models"
   ]
  },
  {
   "cell_type": "code",
   "execution_count": 14,
   "id": "4a2bc0c9",
   "metadata": {
    "execution": {
     "iopub.execute_input": "2023-05-09T02:43:04.158588Z",
     "iopub.status.busy": "2023-05-09T02:43:04.158141Z",
     "iopub.status.idle": "2023-05-09T02:47:54.915836Z",
     "shell.execute_reply": "2023-05-09T02:47:54.914544Z"
    },
    "papermill": {
     "duration": 290.783828,
     "end_time": "2023-05-09T02:47:54.932035",
     "exception": false,
     "start_time": "2023-05-09T02:43:04.148207",
     "status": "completed"
    },
    "tags": []
   },
   "outputs": [
    {
     "name": "stdout",
     "output_type": "stream",
     "text": [
      "0.0030138958544748485\n"
     ]
    }
   ],
   "source": [
    "#for random forest regressor\n",
    "\n",
    "param_grids = {'n_estimators' : [100, 200], 'criterion':['squared_error', 'absolute_error', 'friedman_mse']}\n",
    "gscv_rfr = GridSearchCV(RandomForestRegressor(), param_grids, scoring = 'neg_mean_absolute_percentage_error')\n",
    "gscv_rfr.fit(X_train, y)\n",
    "print(mean_absolute_percentage_error(gscv_rfr.predict(X_train),y))"
   ]
  },
  {
   "cell_type": "code",
   "execution_count": 15,
   "id": "2b391e8f",
   "metadata": {
    "execution": {
     "iopub.execute_input": "2023-05-09T02:47:54.961964Z",
     "iopub.status.busy": "2023-05-09T02:47:54.960938Z",
     "iopub.status.idle": "2023-05-09T02:47:55.059122Z",
     "shell.execute_reply": "2023-05-09T02:47:55.057395Z"
    },
    "papermill": {
     "duration": 0.117164,
     "end_time": "2023-05-09T02:47:55.061873",
     "exception": false,
     "start_time": "2023-05-09T02:47:54.944709",
     "status": "completed"
    },
    "tags": []
   },
   "outputs": [
    {
     "name": "stdout",
     "output_type": "stream",
     "text": [
      "[559929.48435564 478593.61392927 594386.04009292 431050.50012068\n",
      " 718722.90457271]\n"
     ]
    }
   ],
   "source": [
    "res = np.exp(gscv_rfr.predict(X_train)+1)\n",
    "print(res[:5])"
   ]
  },
  {
   "cell_type": "code",
   "execution_count": 16,
   "id": "1e1f225f",
   "metadata": {
    "execution": {
     "iopub.execute_input": "2023-05-09T02:47:55.080946Z",
     "iopub.status.busy": "2023-05-09T02:47:55.080497Z",
     "iopub.status.idle": "2023-05-09T02:47:55.088508Z",
     "shell.execute_reply": "2023-05-09T02:47:55.087319Z"
    },
    "papermill": {
     "duration": 0.020253,
     "end_time": "2023-05-09T02:47:55.090715",
     "exception": false,
     "start_time": "2023-05-09T02:47:55.070462",
     "status": "completed"
    },
    "tags": []
   },
   "outputs": [
    {
     "name": "stdout",
     "output_type": "stream",
     "text": [
      "4.563485658700936e-16\n"
     ]
    }
   ],
   "source": [
    "print(mean_absolute_percentage_error(np.exp(y)-1, df['SalePrice']))"
   ]
  },
  {
   "cell_type": "markdown",
   "id": "614abe6b",
   "metadata": {
    "papermill": {
     "duration": 0.008542,
     "end_time": "2023-05-09T02:47:55.107868",
     "exception": false,
     "start_time": "2023-05-09T02:47:55.099326",
     "status": "completed"
    },
    "tags": []
   },
   "source": [
    "# 4. Predict the Test"
   ]
  },
  {
   "cell_type": "code",
   "execution_count": 17,
   "id": "831ad889",
   "metadata": {
    "execution": {
     "iopub.execute_input": "2023-05-09T02:47:55.127737Z",
     "iopub.status.busy": "2023-05-09T02:47:55.127005Z",
     "iopub.status.idle": "2023-05-09T02:47:55.169680Z",
     "shell.execute_reply": "2023-05-09T02:47:55.168409Z"
    },
    "papermill": {
     "duration": 0.056139,
     "end_time": "2023-05-09T02:47:55.172904",
     "exception": false,
     "start_time": "2023-05-09T02:47:55.116765",
     "status": "completed"
    },
    "tags": []
   },
   "outputs": [
    {
     "data": {
      "text/html": [
       "<div>\n",
       "<style scoped>\n",
       "    .dataframe tbody tr th:only-of-type {\n",
       "        vertical-align: middle;\n",
       "    }\n",
       "\n",
       "    .dataframe tbody tr th {\n",
       "        vertical-align: top;\n",
       "    }\n",
       "\n",
       "    .dataframe thead th {\n",
       "        text-align: right;\n",
       "    }\n",
       "</style>\n",
       "<table border=\"1\" class=\"dataframe\">\n",
       "  <thead>\n",
       "    <tr style=\"text-align: right;\">\n",
       "      <th></th>\n",
       "      <th>OverallQual</th>\n",
       "      <th>GrLivArea</th>\n",
       "      <th>GarageCars</th>\n",
       "      <th>GarageArea</th>\n",
       "      <th>TotalBsmtSF</th>\n",
       "      <th>1stFlrSF</th>\n",
       "      <th>FullBath</th>\n",
       "      <th>TotRmsAbvGrd</th>\n",
       "      <th>YearBuilt</th>\n",
       "      <th>YearRemodAdd</th>\n",
       "      <th>...</th>\n",
       "      <th>SaleCondition_AdjLand</th>\n",
       "      <th>SaleCondition_Alloca</th>\n",
       "      <th>SaleCondition_Family</th>\n",
       "      <th>SaleCondition_Normal</th>\n",
       "      <th>SaleCondition_Partial</th>\n",
       "      <th>MSZoning_C (all)</th>\n",
       "      <th>MSZoning_FV</th>\n",
       "      <th>MSZoning_RH</th>\n",
       "      <th>MSZoning_RL</th>\n",
       "      <th>MSZoning_RM</th>\n",
       "    </tr>\n",
       "  </thead>\n",
       "  <tbody>\n",
       "    <tr>\n",
       "      <th>0</th>\n",
       "      <td>1.791759</td>\n",
       "      <td>6.799056</td>\n",
       "      <td>0.693147</td>\n",
       "      <td>6.594413</td>\n",
       "      <td>6.783325</td>\n",
       "      <td>6.799056</td>\n",
       "      <td>0.693147</td>\n",
       "      <td>1.791759</td>\n",
       "      <td>7.581720</td>\n",
       "      <td>7.581720</td>\n",
       "      <td>...</td>\n",
       "      <td>0.0</td>\n",
       "      <td>0.0</td>\n",
       "      <td>0.0</td>\n",
       "      <td>1.0</td>\n",
       "      <td>0.0</td>\n",
       "      <td>0.0</td>\n",
       "      <td>0.0</td>\n",
       "      <td>1.0</td>\n",
       "      <td>0.0</td>\n",
       "      <td>0.0</td>\n",
       "    </tr>\n",
       "    <tr>\n",
       "      <th>1</th>\n",
       "      <td>1.945910</td>\n",
       "      <td>7.192934</td>\n",
       "      <td>0.693147</td>\n",
       "      <td>5.746203</td>\n",
       "      <td>7.192934</td>\n",
       "      <td>7.192934</td>\n",
       "      <td>0.693147</td>\n",
       "      <td>1.945910</td>\n",
       "      <td>7.580189</td>\n",
       "      <td>7.580189</td>\n",
       "      <td>...</td>\n",
       "      <td>0.0</td>\n",
       "      <td>0.0</td>\n",
       "      <td>0.0</td>\n",
       "      <td>1.0</td>\n",
       "      <td>0.0</td>\n",
       "      <td>0.0</td>\n",
       "      <td>0.0</td>\n",
       "      <td>0.0</td>\n",
       "      <td>1.0</td>\n",
       "      <td>0.0</td>\n",
       "    </tr>\n",
       "    <tr>\n",
       "      <th>2</th>\n",
       "      <td>1.791759</td>\n",
       "      <td>7.396335</td>\n",
       "      <td>1.098612</td>\n",
       "      <td>6.180017</td>\n",
       "      <td>6.834109</td>\n",
       "      <td>6.834109</td>\n",
       "      <td>1.098612</td>\n",
       "      <td>1.945910</td>\n",
       "      <td>7.599902</td>\n",
       "      <td>7.600402</td>\n",
       "      <td>...</td>\n",
       "      <td>0.0</td>\n",
       "      <td>0.0</td>\n",
       "      <td>0.0</td>\n",
       "      <td>1.0</td>\n",
       "      <td>0.0</td>\n",
       "      <td>0.0</td>\n",
       "      <td>0.0</td>\n",
       "      <td>0.0</td>\n",
       "      <td>1.0</td>\n",
       "      <td>0.0</td>\n",
       "    </tr>\n",
       "    <tr>\n",
       "      <th>3</th>\n",
       "      <td>1.945910</td>\n",
       "      <td>7.380879</td>\n",
       "      <td>1.098612</td>\n",
       "      <td>6.154858</td>\n",
       "      <td>6.831954</td>\n",
       "      <td>6.831954</td>\n",
       "      <td>1.098612</td>\n",
       "      <td>2.079442</td>\n",
       "      <td>7.600402</td>\n",
       "      <td>7.600402</td>\n",
       "      <td>...</td>\n",
       "      <td>0.0</td>\n",
       "      <td>0.0</td>\n",
       "      <td>0.0</td>\n",
       "      <td>1.0</td>\n",
       "      <td>0.0</td>\n",
       "      <td>0.0</td>\n",
       "      <td>0.0</td>\n",
       "      <td>0.0</td>\n",
       "      <td>1.0</td>\n",
       "      <td>0.0</td>\n",
       "    </tr>\n",
       "    <tr>\n",
       "      <th>4</th>\n",
       "      <td>2.197225</td>\n",
       "      <td>7.155396</td>\n",
       "      <td>1.098612</td>\n",
       "      <td>6.228511</td>\n",
       "      <td>7.155396</td>\n",
       "      <td>7.155396</td>\n",
       "      <td>1.098612</td>\n",
       "      <td>1.791759</td>\n",
       "      <td>7.597396</td>\n",
       "      <td>7.597396</td>\n",
       "      <td>...</td>\n",
       "      <td>0.0</td>\n",
       "      <td>0.0</td>\n",
       "      <td>0.0</td>\n",
       "      <td>1.0</td>\n",
       "      <td>0.0</td>\n",
       "      <td>0.0</td>\n",
       "      <td>0.0</td>\n",
       "      <td>0.0</td>\n",
       "      <td>1.0</td>\n",
       "      <td>0.0</td>\n",
       "    </tr>\n",
       "  </tbody>\n",
       "</table>\n",
       "<p>5 rows × 111 columns</p>\n",
       "</div>"
      ],
      "text/plain": [
       "   OverallQual  GrLivArea  GarageCars  GarageArea  TotalBsmtSF  1stFlrSF  \\\n",
       "0     1.791759   6.799056    0.693147    6.594413     6.783325  6.799056   \n",
       "1     1.945910   7.192934    0.693147    5.746203     7.192934  7.192934   \n",
       "2     1.791759   7.396335    1.098612    6.180017     6.834109  6.834109   \n",
       "3     1.945910   7.380879    1.098612    6.154858     6.831954  6.831954   \n",
       "4     2.197225   7.155396    1.098612    6.228511     7.155396  7.155396   \n",
       "\n",
       "   FullBath  TotRmsAbvGrd  YearBuilt  YearRemodAdd  ...  \\\n",
       "0  0.693147      1.791759   7.581720      7.581720  ...   \n",
       "1  0.693147      1.945910   7.580189      7.580189  ...   \n",
       "2  1.098612      1.945910   7.599902      7.600402  ...   \n",
       "3  1.098612      2.079442   7.600402      7.600402  ...   \n",
       "4  1.098612      1.791759   7.597396      7.597396  ...   \n",
       "\n",
       "   SaleCondition_AdjLand  SaleCondition_Alloca  SaleCondition_Family  \\\n",
       "0                    0.0                   0.0                   0.0   \n",
       "1                    0.0                   0.0                   0.0   \n",
       "2                    0.0                   0.0                   0.0   \n",
       "3                    0.0                   0.0                   0.0   \n",
       "4                    0.0                   0.0                   0.0   \n",
       "\n",
       "   SaleCondition_Normal  SaleCondition_Partial  MSZoning_C (all)  MSZoning_FV  \\\n",
       "0                   1.0                    0.0               0.0          0.0   \n",
       "1                   1.0                    0.0               0.0          0.0   \n",
       "2                   1.0                    0.0               0.0          0.0   \n",
       "3                   1.0                    0.0               0.0          0.0   \n",
       "4                   1.0                    0.0               0.0          0.0   \n",
       "\n",
       "   MSZoning_RH  MSZoning_RL  MSZoning_RM  \n",
       "0          1.0          0.0          0.0  \n",
       "1          0.0          1.0          0.0  \n",
       "2          0.0          1.0          0.0  \n",
       "3          0.0          1.0          0.0  \n",
       "4          0.0          1.0          0.0  \n",
       "\n",
       "[5 rows x 111 columns]"
      ]
     },
     "execution_count": 17,
     "metadata": {},
     "output_type": "execute_result"
    }
   ],
   "source": [
    "transformed = encoder.transform(X_test[to_transform]).toarray()\n",
    "\n",
    "X_test = pd.concat([X_test.drop(to_transform, axis = 1),\n",
    "              pd.DataFrame(transformed, columns = feature_names)], axis = 1)\n",
    "X_test.head()"
   ]
  },
  {
   "cell_type": "code",
   "execution_count": 18,
   "id": "eb83c0a3",
   "metadata": {
    "execution": {
     "iopub.execute_input": "2023-05-09T02:47:55.193190Z",
     "iopub.status.busy": "2023-05-09T02:47:55.192102Z",
     "iopub.status.idle": "2023-05-09T02:47:55.295400Z",
     "shell.execute_reply": "2023-05-09T02:47:55.294414Z"
    },
    "papermill": {
     "duration": 0.116384,
     "end_time": "2023-05-09T02:47:55.298118",
     "exception": false,
     "start_time": "2023-05-09T02:47:55.181734",
     "status": "completed"
    },
    "tags": []
   },
   "outputs": [],
   "source": [
    "submission = pd.read_csv('/kaggle/input/house-prices-advanced-regression-techniques/sample_submission.csv')['Id']\n",
    "y_hat = np.exp(gscv_rfr.predict(X_test)) - 1"
   ]
  },
  {
   "cell_type": "code",
   "execution_count": 19,
   "id": "57e4bf9a",
   "metadata": {
    "execution": {
     "iopub.execute_input": "2023-05-09T02:47:55.318416Z",
     "iopub.status.busy": "2023-05-09T02:47:55.317982Z",
     "iopub.status.idle": "2023-05-09T02:47:55.339127Z",
     "shell.execute_reply": "2023-05-09T02:47:55.337862Z"
    },
    "papermill": {
     "duration": 0.034944,
     "end_time": "2023-05-09T02:47:55.341903",
     "exception": false,
     "start_time": "2023-05-09T02:47:55.306959",
     "status": "completed"
    },
    "tags": []
   },
   "outputs": [
    {
     "data": {
      "text/html": [
       "<div>\n",
       "<style scoped>\n",
       "    .dataframe tbody tr th:only-of-type {\n",
       "        vertical-align: middle;\n",
       "    }\n",
       "\n",
       "    .dataframe tbody tr th {\n",
       "        vertical-align: top;\n",
       "    }\n",
       "\n",
       "    .dataframe thead th {\n",
       "        text-align: right;\n",
       "    }\n",
       "</style>\n",
       "<table border=\"1\" class=\"dataframe\">\n",
       "  <thead>\n",
       "    <tr style=\"text-align: right;\">\n",
       "      <th></th>\n",
       "      <th>Id</th>\n",
       "      <th>SalePrice</th>\n",
       "    </tr>\n",
       "  </thead>\n",
       "  <tbody>\n",
       "    <tr>\n",
       "      <th>0</th>\n",
       "      <td>1461</td>\n",
       "      <td>119589.918365</td>\n",
       "    </tr>\n",
       "    <tr>\n",
       "      <th>1</th>\n",
       "      <td>1462</td>\n",
       "      <td>151165.733983</td>\n",
       "    </tr>\n",
       "    <tr>\n",
       "      <th>2</th>\n",
       "      <td>1463</td>\n",
       "      <td>175997.822961</td>\n",
       "    </tr>\n",
       "    <tr>\n",
       "      <th>3</th>\n",
       "      <td>1464</td>\n",
       "      <td>183569.139738</td>\n",
       "    </tr>\n",
       "    <tr>\n",
       "      <th>4</th>\n",
       "      <td>1465</td>\n",
       "      <td>199455.762447</td>\n",
       "    </tr>\n",
       "  </tbody>\n",
       "</table>\n",
       "</div>"
      ],
      "text/plain": [
       "     Id      SalePrice\n",
       "0  1461  119589.918365\n",
       "1  1462  151165.733983\n",
       "2  1463  175997.822961\n",
       "3  1464  183569.139738\n",
       "4  1465  199455.762447"
      ]
     },
     "execution_count": 19,
     "metadata": {},
     "output_type": "execute_result"
    }
   ],
   "source": [
    "sub = pd.concat([submission, \n",
    "                 pd.DataFrame(y_hat, columns = ['SalePrice'])], axis = 1)\n",
    "sub.to_csv('submission.csv', index = False)\n",
    "sub.head()"
   ]
  }
 ],
 "metadata": {
  "kernelspec": {
   "display_name": "Python 3",
   "language": "python",
   "name": "python3"
  },
  "language_info": {
   "codemirror_mode": {
    "name": "ipython",
    "version": 3
   },
   "file_extension": ".py",
   "mimetype": "text/x-python",
   "name": "python",
   "nbconvert_exporter": "python",
   "pygments_lexer": "ipython3",
   "version": "3.7.12"
  },
  "papermill": {
   "default_parameters": {},
   "duration": 306.511079,
   "end_time": "2023-05-09T02:47:56.174872",
   "environment_variables": {},
   "exception": null,
   "input_path": "__notebook__.ipynb",
   "output_path": "__notebook__.ipynb",
   "parameters": {},
   "start_time": "2023-05-09T02:42:49.663793",
   "version": "2.4.0"
  }
 },
 "nbformat": 4,
 "nbformat_minor": 5
}
